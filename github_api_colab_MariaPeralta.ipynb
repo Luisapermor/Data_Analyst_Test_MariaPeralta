{
  "nbformat": 4,
  "nbformat_minor": 0,
  "metadata": {
    "colab": {
      "provenance": []
    },
    "kernelspec": {
      "name": "python3",
      "display_name": "Python 3"
    },
    "language_info": {
      "name": "python"
    }
  },
  "cells": [
    {
      "cell_type": "markdown",
      "source": [
        "## 1. Setup and Authentication\n",
        "\n",
        "We start by importing necessary libraries and configure authentication with a GitHub personal access token."
      ],
      "metadata": {
        "id": "X-yCVqRKUBA-"
      }
    },
    {
      "cell_type": "code",
      "execution_count": 2,
      "metadata": {
        "id": "WamBorLxT3N-"
      },
      "outputs": [],
      "source": [
        "# Libraries\n",
        "import requests\n",
        "import time\n",
        "import json"
      ]
    },
    {
      "cell_type": "code",
      "source": [
        "# Set the GitHub personal access token\n",
        "GITHUB_TOKEN = \"\" (Add personal GitHub token here)\n",
        "HEADERS = {\"Authorization\": f\"Bearer {GITHUB_TOKEN}\",\n",
        "    \"Accept\": \"application/vnd.github+json\",\n",
        "    \"X-GitHub-Api-Version\": \"2022-11-28\"}"
      ],
      "metadata": {
        "id": "5WCjRHf9Uygw"
      },
      "execution_count": 3,
      "outputs": []
    },
    {
      "cell_type": "markdown",
      "source": [
        "## 2. Search Public Repositories\n",
        "\n",
        "We will use the `/search/repositories` endpoint to find public repositories related to marketing and data."
      ],
      "metadata": {
        "id": "sO16nCHYUNw2"
      }
    },
    {
      "cell_type": "code",
      "source": [
        "def search_repositories(query, max_pages, per_page=10): #This search includes pagination to select te desired amount of pages\n",
        "    all_results = []\n",
        "    for page in range(1, max_pages + 1):\n",
        "        url = \"https://api.github.com/search/repositories\"\n",
        "        params = {\"q\": query,\n",
        "            \"per_page\": per_page,\n",
        "            \"page\": page}\n",
        "        response = requests.get(url, headers=HEADERS, params=params)\n",
        "        data = response.json()\n",
        "        items = data.get(\"items\", [])\n",
        "        all_results.extend(items)\n",
        "\n",
        "        if len(items) < per_page:  # Break early if there are no more results\n",
        "            break\n",
        "            time.sleep(1)  # avoid rate limit if looping many times\n",
        "        return all_results"
      ],
      "metadata": {
        "id": "VOawe4C0UN7I"
      },
      "execution_count": 17,
      "outputs": []
    },
    {
      "cell_type": "code",
      "source": [
        "#Search for marketing data tools\n",
        "repos = search_repositories(\"marketing analytics\", max_pages=3)\n",
        "for repo in repos:\n",
        "    print(f\"{repo['full_name']} - ⭐ {repo['stargazers_count']}\")\n"
      ],
      "metadata": {
        "colab": {
          "base_uri": "https://localhost:8080/"
        },
        "id": "VK2Zcj3NUrQ-",
        "outputId": "668bb1b6-2248-4254-f531-076caf523374"
      },
      "execution_count": 18,
      "outputs": [
        {
          "output_type": "stream",
          "name": "stdout",
          "text": [
            "plausible/analytics - ⭐ 22725\n",
            "TrainingByPackt/Data-Science-for-Marketing-Analytics - ⭐ 217\n",
            "Nikhilkohli1/Digital-Marketing-Analytics - ⭐ 231\n",
            "GoogleCloudPlatform/marketing-analytics-jumpstart - ⭐ 158\n",
            "PacktPublishing/Data-Science-for-Marketing-Analytics-Second-Edition - ⭐ 128\n",
            "retentioneering/retentioneering-tools - ⭐ 839\n",
            "byukan/Marketing-Data-Science - ⭐ 293\n",
            "GoogleCloudPlatform/marketing-analytics-jumpstart-dataform - ⭐ 70\n",
            "blurred-machine/Sales-and-Marketing-Analytics - ⭐ 74\n",
            "Phippsy/R-Marketing-Analytics - ⭐ 33\n"
          ]
        }
      ]
    },
    {
      "cell_type": "markdown",
      "source": [
        "## 3. List Commits in the selected Repository\n",
        "\n",
        "Extract commit activity from a repository using the `/repos/{owner}/{repo}/commits` endpoint."
      ],
      "metadata": {
        "id": "szqpjFwNW3mh"
      }
    },
    {
      "cell_type": "code",
      "source": [
        "def list_commits(owner, repo, per_page=5):\n",
        "    url = f\"https://api.github.com/repos/{owner}/{repo}/commits\"\n",
        "    params = {\"per_page\": per_page}\n",
        "    response = requests.get(url, headers=HEADERS, params=params)\n",
        "    return response.json()"
      ],
      "metadata": {
        "id": "LKwjSlbZW3wQ"
      },
      "execution_count": 6,
      "outputs": []
    },
    {
      "cell_type": "code",
      "source": [
        "# Get commits from the plausible/analytics repo (Top from section 2)\n",
        "commits = list_commits(\"plausible\", \"analytics\")\n",
        "for c in commits:\n",
        "    print(c['commit']['author']['date'], \"-\", c['commit']['message'])"
      ],
      "metadata": {
        "colab": {
          "base_uri": "https://localhost:8080/"
        },
        "id": "71GziMLvZp7U",
        "outputId": "89a5d884-f27f-49d1-89d8-f03853fdbff7"
      },
      "execution_count": 10,
      "outputs": [
        {
          "output_type": "stream",
          "name": "stdout",
          "text": [
            "2025-06-24T16:11:27Z - Calmer multiple teams experience (#5526)\n",
            "\n",
            "* Offer team switcher on /sites if applicable\n",
            "\n",
            "- in case of empty My Personal Sites view, and with\n",
            "  another team with sites being available\n",
            "- redirect straight to first team upon invoking team\n",
            "  switcher, if there's only one available\n",
            "- redirect to /sites from team switcher, if there\n",
            "  are no set-up teams available\n",
            "\n",
            "* Remove unused test helper\n",
            "\n",
            "* Store and use last team identifier\n",
            "\n",
            "* Remove alert about starting trial when adding first site\n",
            "\n",
            "* Format\n",
            "\n",
            "* Update lib/plausible_web/live/sites.ex\n",
            "\n",
            "Co-authored-by: Adrian Gruntkowski <adrian.gruntkowski@gmail.com>\n",
            "\n",
            "---------\n",
            "\n",
            "Co-authored-by: Adrian Gruntkowski <adrian.gruntkowski@gmail.com>\n",
            "2025-06-24T15:02:25Z - Migration: Add `users.last_team_identifier` (#5527)\n",
            "2025-06-24T11:51:32Z - Add \"SSO\" billing plan feature and hide SSO setup behind it (#5524)\n",
            "\n",
            "* Add SSO plan feature\n",
            "\n",
            "* Gate SSO configuration with plan feature\n",
            "\n",
            "* Don't preselect SSO feature when creating new custom plan\n",
            "2025-06-24T08:25:24Z - Implement plug for checking SSO team access (#5522)\n",
            "\n",
            "* Implement plug for checking SSO team access\n",
            "\n",
            "* Add the new plug to the `browser` pipeline and adjust routes\n",
            "\n",
            "* Don't log in on failed provisioning and display issue notice instead\n",
            "\n",
            "* Require user to be provisioned as SSO before toggling \"Force SSO\"\n",
            "\n",
            "* Label SSO members explicitly in team management LV\n",
            "\n",
            "* Make slight layout and copy adjustments in provision issue view\n",
            "\n",
            "* Improve copy (h/t @aerosol)\n",
            "2025-06-24T08:18:20Z - Minor improvements to Team management UI (#5523)\n",
            "\n",
            "* Team members setup: indicate disabled with color\n",
            "\n",
            "* Bugfix: grey-out guest role picker if insufficient permissions.\n",
            "\n",
            "This wasn't any critical though, the UI would act janky but\n",
            "permissions were enforced anyway on change.\n"
          ]
        }
      ]
    },
    {
      "cell_type": "markdown",
      "source": [
        "## 4. Get File Contents from a Repository\n",
        "\n",
        "Use the `/repos/{owner}/{repo}/contents/{path}` endpoint to read a specific file or folder in a repo.\n"
      ],
      "metadata": {
        "id": "r87RVuFuXbi-"
      }
    },
    {
      "cell_type": "code",
      "source": [
        "def get_contents(owner, repo, path=\"README.md\"):\n",
        "    url = f\"https://api.github.com/repos/{owner}/{repo}/contents/{path}\"\n",
        "    response = requests.get(url, headers=HEADERS)\n",
        "    return response.json()"
      ],
      "metadata": {
        "id": "2b6z9g6FXaVu"
      },
      "execution_count": 12,
      "outputs": []
    },
    {
      "cell_type": "code",
      "source": [
        "# Get the README file from dbt-core\n",
        "content = get_contents(\"plausible\", \"analytics\")\n",
        "print(content.get(\"name\"), \"-\", content.get(\"type\"), \"-\", content.get(\"html_url\"))"
      ],
      "metadata": {
        "colab": {
          "base_uri": "https://localhost:8080/"
        },
        "id": "6TUJ14ASXpCJ",
        "outputId": "6afc6f79-a204-4063-eaa2-c0246d7513f3"
      },
      "execution_count": 13,
      "outputs": [
        {
          "output_type": "stream",
          "name": "stdout",
          "text": [
            "README.md - file - https://github.com/plausible/analytics/blob/master/README.md\n"
          ]
        }
      ]
    },
    {
      "cell_type": "markdown",
      "source": [
        "## 5. Rate Limit and Error Handling\n",
        "\n",
        "In this last section we handle diffrerent errors like 401 Unauthorized and check GitHub’s rate limits."
      ],
      "metadata": {
        "id": "R7TKf72PXvQy"
      }
    },
    {
      "cell_type": "code",
      "source": [
        "def check_rate_limit():\n",
        "    url = \"https://api.github.com/rate_limit\"\n",
        "    response = requests.get(url, headers=HEADERS)\n",
        "    data = response.json()\n",
        "    rate = data.get('rate', {})\n",
        "    print(\"Remaining requests:\", rate.get('remaining'))\n",
        "    print(\"Reset time (UTC):\", time.strftime('%Y-%m-%d %H:%M:%S', time.gmtime(rate.get('reset'))))\n",
        "\n",
        "check_rate_limit()"
      ],
      "metadata": {
        "colab": {
          "base_uri": "https://localhost:8080/"
        },
        "id": "uYqN6oiBYTqj",
        "outputId": "b6371092-fd6e-4a13-c211-2d656bdda911"
      },
      "execution_count": 14,
      "outputs": [
        {
          "output_type": "stream",
          "name": "stdout",
          "text": [
            "Remaining requests: 4997\n",
            "Reset time (UTC): 2025-06-24 20:19:44\n"
          ]
        }
      ]
    }
  ]
}